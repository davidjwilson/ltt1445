{
 "cells": [
  {
   "cell_type": "markdown",
   "id": "320ec04e-fa1d-4342-af3c-1766914eb86b",
   "metadata": {},
   "source": [
    "Colating the Swift photometry from LTT1445, might add some Phoenix models as well."
   ]
  },
  {
   "cell_type": "code",
   "execution_count": 1,
   "id": "f495e7cf-396b-4567-a98a-a4b6c5997218",
   "metadata": {},
   "outputs": [],
   "source": [
    "import numpy as np\n",
    "import matplotlib.pyplot as plt\n",
    "import astropy.io.fits as fits\n",
    "import os\n",
    "import glob\n",
    "from astropy.table import Table\n",
    "from astropy.io import ascii\n",
    "from astropy.convolution import convolve, Box1DKernel\n",
    "from scipy.interpolate import interp1d\n",
    "from craftroom import resample\n",
    "import astropy.units as u\n",
    "from astropy import time, coordinates as coord\n",
    "import astropy.constants as const\n",
    "from astropy.modeling import models, fitting\n",
    "from astropy.coordinates import SkyCoord\n",
    "from matplotlib.gridspec import GridSpec\n",
    "from datetime import datetime\n",
    "from mpl_toolkits.axes_grid1.inset_locator import inset_axes\n",
    "\n",
    "\n",
    "#matplotlib set up\n",
    "%matplotlib inline\n",
    "from matplotlib import rcParams\n",
    "rcParams[\"figure.figsize\"] = (14, 5)\n",
    "rcParams[\"font.size\"] = 20"
   ]
  },
  {
   "cell_type": "code",
   "execution_count": 2,
   "id": "256a18cd-8ae1-4c06-b8ff-ef15cd7defaa",
   "metadata": {},
   "outputs": [],
   "source": [
    "path = '/media/david/2tb_ext_hd/hddata/ltt1445/swift/uvot/working/'"
   ]
  },
  {
   "cell_type": "code",
   "execution_count": 3,
   "id": "f896e718-9125-4057-9dcd-e133ac86b768",
   "metadata": {},
   "outputs": [
    {
     "data": {
      "text/plain": [
       "['/media/david/2tb_ext_hd/hddata/ltt1445/swift/uvot/working/ltt1445A_phot_uvm2_obs1.fits',\n",
       " '/media/david/2tb_ext_hd/hddata/ltt1445/swift/uvot/working/ltt1445A_phot_uvm2_obs2.fits',\n",
       " '/media/david/2tb_ext_hd/hddata/ltt1445/swift/uvot/working/ltt1445A_phot_u_obs3.fits',\n",
       " '/media/david/2tb_ext_hd/hddata/ltt1445/swift/uvot/working/ltt1445BC_phot_uvm2_obs1.fits',\n",
       " '/media/david/2tb_ext_hd/hddata/ltt1445/swift/uvot/working/ltt1445BC_phot_uvm2_obs2.fits',\n",
       " '/media/david/2tb_ext_hd/hddata/ltt1445/swift/uvot/working/ltt1445BC_phot_u_obs3.fits']"
      ]
     },
     "execution_count": 3,
     "metadata": {},
     "output_type": "execute_result"
    }
   ],
   "source": [
    "phots = glob.glob('{}*phot*.fits'.format(path))\n",
    "phots"
   ]
  },
  {
   "cell_type": "code",
   "execution_count": 4,
   "id": "e19c2071-6559-49a8-8c23-f1f7c2e41444",
   "metadata": {},
   "outputs": [
    {
     "data": {
      "text/plain": [
       "['MET',\n",
       " 'EXTNAME',\n",
       " 'TSTART',\n",
       " 'TSTOP',\n",
       " 'EXPOSURE',\n",
       " 'TELAPSE',\n",
       " 'TIME',\n",
       " 'SRC_AREA',\n",
       " 'BKG_AREA',\n",
       " 'STD_AREA',\n",
       " 'PLATE_SCALE',\n",
       " 'RAW_TOT_CNTS',\n",
       " 'RAW_TOT_CNTS_ERR',\n",
       " 'RAW_BKG_CNTS',\n",
       " 'RAW_BKG_CNTS_ERR',\n",
       " 'RAW_STD_CNTS',\n",
       " 'RAW_STD_CNTS_ERR',\n",
       " 'RAW_TOT_RATE',\n",
       " 'RAW_TOT_RATE_ERR',\n",
       " 'RAW_BKG_RATE',\n",
       " 'RAW_BKG_RATE_ERR',\n",
       " 'RAW_STD_RATE',\n",
       " 'RAW_STD_RATE_ERR',\n",
       " 'COI_STD_FACTOR',\n",
       " 'COI_STD_FACTOR_ERR',\n",
       " 'COI_BKG_FACTOR',\n",
       " 'COI_BKG_FACTOR_ERR',\n",
       " 'COI_TOT_RATE',\n",
       " 'COI_TOT_RATE_ERR',\n",
       " 'COI_BKG_RATE',\n",
       " 'COI_BKG_RATE_ERR',\n",
       " 'COI_SRC_RATE',\n",
       " 'COI_SRC_RATE_ERR',\n",
       " 'AP_FACTOR',\n",
       " 'AP_FACTOR_ERR',\n",
       " 'AP_COI_SRC_RATE',\n",
       " 'AP_COI_SRC_RATE_ERR',\n",
       " 'LSS_FACTOR',\n",
       " 'LSS_RATE',\n",
       " 'LSS_RATE_ERR',\n",
       " 'SENSCORR_FACTOR',\n",
       " 'SENSCORR_RATE',\n",
       " 'SENSCORR_RATE_ERR',\n",
       " 'CORR_RATE',\n",
       " 'CORR_RATE_ERR',\n",
       " 'AB_MAG',\n",
       " 'AB_MAG_ERR',\n",
       " 'AB_MAG_ERR_STAT',\n",
       " 'AB_MAG_ERR_SYS',\n",
       " 'AB_MAG_BKG',\n",
       " 'AB_MAG_BKG_ERR_STAT',\n",
       " 'AB_MAG_BKG_ERR_SYS',\n",
       " 'AB_MAG_BKG_ERR',\n",
       " 'AB_MAG_LIM',\n",
       " 'AB_MAG_LIM_SIG',\n",
       " 'AB_MAG_COI_LIM',\n",
       " 'AB_FLUX_AA',\n",
       " 'AB_FLUX_AA_ERR_STAT',\n",
       " 'AB_FLUX_AA_ERR_SYS',\n",
       " 'AB_FLUX_AA_ERR',\n",
       " 'AB_FLUX_AA_BKG',\n",
       " 'AB_FLUX_AA_BKG_ERR_STAT',\n",
       " 'AB_FLUX_AA_BKG_ERR_SYS',\n",
       " 'AB_FLUX_AA_BKG_ERR',\n",
       " 'AB_FLUX_AA_LIM',\n",
       " 'AB_FLUX_AA_COI_LIM',\n",
       " 'AB_FLUX_HZ',\n",
       " 'AB_FLUX_HZ_ERR_STAT',\n",
       " 'AB_FLUX_HZ_ERR_SYS',\n",
       " 'AB_FLUX_HZ_ERR',\n",
       " 'AB_FLUX_HZ_BKG',\n",
       " 'AB_FLUX_HZ_BKG_ERR_STAT',\n",
       " 'AB_FLUX_HZ_BKG_ERR_SYS',\n",
       " 'AB_FLUX_HZ_BKG_ERR',\n",
       " 'AB_FLUX_HZ_LIM',\n",
       " 'AB_FLUX_HZ_COI_LIM',\n",
       " 'MAG',\n",
       " 'MAG_ERR',\n",
       " 'MAG_ERR_STAT',\n",
       " 'MAG_ERR_SYS',\n",
       " 'MAG_BKG',\n",
       " 'MAG_BKG_ERR_STAT',\n",
       " 'MAG_BKG_ERR_SYS',\n",
       " 'MAG_BKG_ERR',\n",
       " 'MAG_LIM',\n",
       " 'MAG_LIM_SIG',\n",
       " 'MAG_COI_LIM',\n",
       " 'FLUX_AA',\n",
       " 'FLUX_AA_ERR_STAT',\n",
       " 'FLUX_AA_ERR_SYS',\n",
       " 'FLUX_AA_ERR',\n",
       " 'FLUX_AA_BKG',\n",
       " 'FLUX_AA_BKG_ERR_STAT',\n",
       " 'FLUX_AA_BKG_ERR_SYS',\n",
       " 'FLUX_AA_BKG_ERR',\n",
       " 'FLUX_AA_LIM',\n",
       " 'FLUX_AA_COI_LIM',\n",
       " 'FLUX_HZ',\n",
       " 'FLUX_HZ_ERR_STAT',\n",
       " 'FLUX_HZ_ERR_SYS',\n",
       " 'FLUX_HZ_ERR',\n",
       " 'FLUX_HZ_BKG',\n",
       " 'FLUX_HZ_BKG_ERR_STAT',\n",
       " 'FLUX_HZ_BKG_ERR_SYS',\n",
       " 'FLUX_HZ_BKG_ERR',\n",
       " 'FLUX_HZ_LIM',\n",
       " 'FLUX_HZ_COI_LIM',\n",
       " 'COI_RATE_LIMIT',\n",
       " 'CORR_RATE_LIMIT',\n",
       " 'FILTER',\n",
       " 'RA',\n",
       " 'DEC',\n",
       " 'DETX',\n",
       " 'DETY',\n",
       " 'NSIGMA',\n",
       " 'FRAMTIME',\n",
       " 'SATURATED',\n",
       " 'SYS_ERR',\n",
       " 'SRCEXP',\n",
       " 'BKGEXP']"
      ]
     },
     "execution_count": 4,
     "metadata": {},
     "output_type": "execute_result"
    }
   ],
   "source": [
    "for phot in phots:\n",
    "    data = fits.getdata(phot, 1)\n",
    "data.names"
   ]
  },
  {
   "cell_type": "code",
   "execution_count": 5,
   "id": "b7b861ac-4b2e-496a-84e6-d45d1d632139",
   "metadata": {},
   "outputs": [
    {
     "name": "stdout",
     "output_type": "stream",
     "text": [
      "['UVM2']\n",
      "['UVM2']\n",
      "['U']\n",
      "['UVM2']\n",
      "['UVM2']\n",
      "['U']\n"
     ]
    }
   ],
   "source": [
    "for phot in phots:\n",
    "    data = fits.getdata(phot, 1)\n",
    "    print(data['FILTER'])"
   ]
  },
  {
   "cell_type": "code",
   "execution_count": 6,
   "id": "486175dc-0f99-458d-b33a-1bce89791181",
   "metadata": {},
   "outputs": [],
   "source": [
    "cenwaves = dict(V=5468, B=4392, U=3465,UVW1=2600, UVM2=2246, UVW2=1928)\n",
    "fwhms = dict(V=769, B=975, U=785, UVW1=693, UVM2=498, UVW2=657)\n"
   ]
  },
  {
   "cell_type": "code",
   "execution_count": 7,
   "id": "452e44fb-10dd-4367-9751-75cd95d0ff93",
   "metadata": {},
   "outputs": [
    {
     "data": {
      "image/png": "[encoded data removed]",
      "text/plain": [
       "<Figure size 1008x360 with 1 Axes>"
      ]
     },
     "metadata": {
      "needs_background": "light"
     },
     "output_type": "display_data"
    }
   ],
   "source": [
    "for phot in phots:\n",
    "    data = fits.getdata(phot, 1)\n",
    "    w = cenwaves[data['FILTER'][0]]\n",
    "    f, e = data['AB_FLUX_AA'], data['AB_FLUX_AA_ERR']\n",
    "    c= 'C0'\n",
    "    if 'BC' in os.path.split(phot)[1]:\n",
    "        c='C1'\n",
    "    plt.errorbar(w, f, yerr=e, marker='o', ls='none', c=c)"
   ]
  },
  {
   "cell_type": "code",
   "execution_count": 8,
   "id": "3aa98098-a5d7-45e4-92f6-2207195edabe",
   "metadata": {},
   "outputs": [
    {
     "data": {
      "text/plain": [
       "[<matplotlib.lines.Line2D at 0x7f0fc37fc910>]"
      ]
     },
     "execution_count": 8,
     "metadata": {},
     "output_type": "execute_result"
    },
    {
     "data": {
      "image/png": "[encoded data removed]",
      "text/plain": [
       "<Figure size 1008x360 with 1 Axes>"
      ]
     },
     "metadata": {
      "needs_background": "light"
     },
     "output_type": "display_data"
    }
   ],
   "source": [
    "def xspec_to_spec(path):\n",
    "    \"\"\"\n",
    "    Converts an xspec wdata textfile from counts to ergs. \n",
    "    Assumes that the wavelength array is in Angstrom and the flux arrays are in counts/s/cm2/A\n",
    "    \"\"\"\n",
    "    xrt = np.loadtxt(path, skiprows=3)\n",
    "    xrt = xrt[::-1]\n",
    "    wx = xrt[:,0]*u.AA\n",
    "    bx = xrt[:,1]*u.AA\n",
    "    fx  = (xrt[:,2] * (u.photon/u.s/u.cm**2/u.AA)).to(u.erg/u.s/u.cm**2/u.AA, equivalencies=u.spectral_density(wx))\n",
    "    ex  = (xrt[:,3] * (u.photon/u.s/u.cm**2/u.AA)).to(u.erg/u.s/u.cm**2/u.AA, equivalencies=u.spectral_density(wx))\n",
    "    if len(xrt[0]) == 5: #i.e. if there's a model\n",
    "        mx  = (xrt[:,4] * (u.photon/u.s/u.cm**2/u.AA)).to(u.erg/u.s/u.cm**2/u.AA, equivalencies=u.spectral_density(wx))\n",
    "        return wx, bx, fx, ex, mx\n",
    "    else:\n",
    "        return wx, bx, fx, ex\n",
    "\n",
    "xpath = '/media/david/2tb_ext_hd/hddata/ltt1445/swift/xrt/ltt1445B/ltt1445BC_xrt.txt'\n",
    "\n",
    "wx, bx, fx, ex, mx = xspec_to_spec(xpath)\n",
    "\n",
    "\n",
    "plt.errorbar(wx, fx, yerr=ex, xerr=bx, ls='none')\n",
    "plt.plot(wx, mx)"
   ]
  },
  {
   "cell_type": "code",
   "execution_count": 9,
   "id": "7bb034b8-812b-454d-9ed9-ff49866c7ad5",
   "metadata": {},
   "outputs": [
    {
     "data": {
      "image/png": "[encoded data removed]",
      "text/plain": [
       "<Figure size 1008x360 with 1 Axes>"
      ]
     },
     "metadata": {
      "needs_background": "light"
     },
     "output_type": "display_data"
    }
   ],
   "source": [
    "for phot in phots:\n",
    "    data = fits.getdata(phot, 1)\n",
    "    w, fwhm = cenwaves[data['FILTER'][0]], fwhms[data['FILTER'][0]]\n",
    "    f, e = data['AB_FLUX_AA'], data['AB_FLUX_AA_ERR']\n",
    "    c= 'C0'\n",
    "    if 'BC' in os.path.split(phot)[1]:\n",
    "        c='C1'\n",
    "    plt.errorbar(w, f, yerr=e, xerr=fwhm/2, ls='none', c=c)\n",
    "\n",
    "plt.errorbar(wx, fx, yerr=ex, xerr=bx, ls='none', c='C1')\n",
    "plt.yscale('log')\n",
    "plt.xscale('log')"
   ]
  },
  {
   "cell_type": "code",
   "execution_count": 10,
   "id": "69db0255-af45-4d60-aaec-1005bea92111",
   "metadata": {},
   "outputs": [],
   "source": [
    "import prepare_phoenix_svo as pp\n"
   ]
  },
  {
   "cell_type": "code",
   "execution_count": 11,
   "id": "4359fa71-c75a-425c-9747-794df10c8f42",
   "metadata": {},
   "outputs": [
    {
     "name": "stdout",
     "output_type": "stream",
     "text": [
      "6.863808988432423 pc\n"
     ]
    }
   ],
   "source": [
    "p = 145.6917\n",
    "d = (1000/p)*u.pc\n",
    "print(d)\n",
    "\n",
    "stars = ['LTT1445A', 'LTT1445B', 'LTT1445C']\n",
    "teffs = [3337, 3150, 3060] #B+C teffs estimated from rochester tables\n",
    "masses = [0.257,0.215,0.161]\n",
    "radii = [0.268,0.236,0.197]\n",
    "\n",
    "G = const.G\n",
    "M = const.M_sun.to(u.kg)\n",
    "R = const.R_sun.to(u.m)\n",
    "\n",
    "repo = '/media/david/2tb_ext_hd/hddata/mega_muscles/data-vacuum/'\n",
    "save_path = 'phoenix_models/'\n",
    "\n",
    "for i, star in enumerate(stars):\n",
    "    g = (G*(masses[i]*M)/(radii[i]*R)**2).to(u.cm/u.s**2)\n",
    "    star_params = {'Teff': teffs[i], 'logg': np.log10(g.value), 'FeH': 0.00, 'aM': 0, 'Radius':radii[i]*u.R_sun, 'Distance':d}\n",
    "\n",
    "    # pp.make_phoenix_spectrum(star, save_path, repo, star_params, save_ecsv=True, plot=True)"
   ]
  },
  {
   "cell_type": "code",
   "execution_count": 12,
   "id": "bfe0d9be-4db8-4cac-9fc6-d1b51413eafc",
   "metadata": {},
   "outputs": [
    {
     "data": {
      "image/png": "[encoded data removed]",
      "text/plain": [
       "<Figure size 1008x360 with 1 Axes>"
      ]
     },
     "metadata": {
      "needs_background": "light"
     },
     "output_type": "display_data"
    }
   ],
   "source": [
    "# for star in stars:\n",
    "#     data = Table.read('phoenix_models/{}_phoenix_interpolated.ecsv'.format(star))\n",
    "#     normfac=  data.meta['NORMFAC']\n",
    "#     plt.plot(data['WAVELENGTH'], data['FLUX'])\n",
    "    \n",
    "# plt.yscale('log')\n",
    "# plt.xscale('log')"
   ]
  },
  {
   "cell_type": "code",
   "execution_count": 13,
   "id": "a8ce1351-bcde-4c39-98ed-64a366479fe0",
   "metadata": {},
   "outputs": [],
   "source": [
    "phxA =  Table.read('phoenix_models/LTT1445A_phoenix_interpolated.ecsv')\n",
    "wpA, fpA = phxA['WAVELENGTH'], phxA['FLUX']*phxA.meta['NORMFAC']\n",
    "phxB =  Table.read('phoenix_models/LTT1445B_phoenix_interpolated.ecsv')\n",
    "wpB, fpB = phxB['WAVELENGTH'], phxB['FLUX']*phxB.meta['NORMFAC']\n",
    "phxC =  Table.read('phoenix_models/LTT1445C_phoenix_interpolated.ecsv')\n",
    "wpC, fpC = phxC['WAVELENGTH'], phxC['FLUX']*phxC.meta['NORMFAC']"
   ]
  },
  {
   "cell_type": "code",
   "execution_count": 14,
   "id": "46cad7db-6b0f-4dd3-8551-87e66a1f5308",
   "metadata": {},
   "outputs": [],
   "source": [
    "fpCi = interp1d(wpC, fpC, fill_value='extrapolate')(wpB)\n",
    "fpBC = fpB+fpCi"
   ]
  },
  {
   "cell_type": "code",
   "execution_count": 15,
   "id": "d40103bd-9f7b-4548-839d-4bd91262b39b",
   "metadata": {},
   "outputs": [
    {
     "data": {
      "image/png": "[encoded data removed]",
      "text/plain": [
       "<Figure size 864x360 with 1 Axes>"
      ]
     },
     "metadata": {
      "needs_background": "light"
     },
     "output_type": "display_data"
    }
   ],
   "source": [
    "plt.figure(figsize=(12, 5))\n",
    "for phot in phots:\n",
    "    data = fits.getdata(phot, 1)\n",
    "    w, fwhm = cenwaves[data['FILTER'][0]], fwhms[data['FILTER'][0]]\n",
    "    f, e = data['AB_FLUX_AA'], data['AB_FLUX_AA_ERR']\n",
    "    c= 'C0'\n",
    "    if 'BC' in os.path.split(phot)[1]:\n",
    "        c='C1'\n",
    "    plt.errorbar(w, f, yerr=e, xerr=fwhm/2, ls='none', c=c)\n",
    "    \n",
    "plt.plot(wpA, fpA, c='C0', zorder=-1, alpha=0.5, label = 'LTT1445A')\n",
    "plt.plot(wpB, fpBC, c='C1', zorder=-2, alpha=0.5, label='LTT1445BC')\n",
    "\n",
    "\n",
    "plt.errorbar(wx, fx, yerr=ex, xerr=bx, ls='none', c='C1')\n",
    "plt.yscale('log')\n",
    "plt.xscale('log')\n",
    "\n",
    "plt.annotate('XRT', (10, 1e-12))\n",
    "plt.annotate('UVM2', (2246-200, 1e-12), ha='center')\n",
    "plt.annotate('U', (3465, 1e-12), ha='center')\n",
    "plt.annotate('PHOENIX', (1e4, 1e-12), ha='center')\n",
    "\n",
    "plt.ylim(1.1e-17, 0.5e-11)\n",
    "plt.xlim(5, 3e4)\n",
    "plt.legend(loc=3)\n",
    "plt.xlabel('Wavelength (\\AA)')\n",
    "plt.ylabel('Flux (erg s$^{-1}$ cm$^{-2}$ \\AA$^{-1}$)')\n",
    "plt.tight_layout()\n",
    "plt.savefig('plots/LTT1445_swift_sed.png', facecolor='w')\n",
    "plt.savefig('plots/LTT1445_swift_sed.pdf')"
   ]
  },
  {
   "cell_type": "markdown",
   "id": "168e47ba-acab-4a23-8a0d-0a6f8231976c",
   "metadata": {},
   "source": [
    "Is the UVM2 higher for both at the same time"
   ]
  },
  {
   "cell_type": "code",
   "execution_count": 16,
   "id": "eef5484e-6114-4fd9-9ae3-8a040bf7d83b",
   "metadata": {},
   "outputs": [
    {
     "data": {
      "image/png": "[encoded data removed]",
      "text/plain": [
       "<Figure size 1008x360 with 1 Axes>"
      ]
     },
     "metadata": {
      "needs_background": "light"
     },
     "output_type": "display_data"
    }
   ],
   "source": [
    "for phot in phots:\n",
    "    data = fits.getdata(phot, 1)\n",
    "    flt = data['FILTER'][0]\n",
    "    if flt == 'UVM2':\n",
    "        w, fwhm = cenwaves[data['FILTER'][0]], fwhms[data['FILTER'][0]]\n",
    "        f, e = data['AB_FLUX_AA'], data['AB_FLUX_AA_ERR']\n",
    "        c= 'C0'\n",
    "        if 'obs2' in os.path.split(phot)[1]:\n",
    "            c='C1'\n",
    "        plt.errorbar(w, f, yerr=e, xerr=fwhm/2, ls='none', c=c)\n",
    "plt.yscale('log')"
   ]
  },
  {
   "cell_type": "code",
   "execution_count": 17,
   "id": "6a8cf1b1-c356-463e-b2a8-f63c632df99b",
   "metadata": {},
   "outputs": [
    {
     "data": {
      "text/plain": [
       "['/media/david/2tb_ext_hd/hddata/ltt1445/swift/uvot/working/ltt1445A_100slc_uvm2_obs2.fits',\n",
       " '/media/david/2tb_ext_hd/hddata/ltt1445/swift/uvot/working/ltt1445A_100slc_u_obs3.fits',\n",
       " '/media/david/2tb_ext_hd/hddata/ltt1445/swift/uvot/working/ltt1445BC_100slc_uvm2_obs2.fits',\n",
       " '/media/david/2tb_ext_hd/hddata/ltt1445/swift/uvot/working/ltt1445BC_100slc_u_obs3.fits']"
      ]
     },
     "execution_count": 17,
     "metadata": {},
     "output_type": "execute_result"
    }
   ],
   "source": [
    "lcs = glob.glob('{}*100slc*.fits'.format(path))\n",
    "lcs"
   ]
  },
  {
   "cell_type": "code",
   "execution_count": 18,
   "id": "6cf9a81e-e26f-4d23-b67f-c9d0a9c4b03a",
   "metadata": {},
   "outputs": [
    {
     "data": {
      "text/plain": [
       "(614087000.0, 614090000.0)"
      ]
     },
     "execution_count": 18,
     "metadata": {},
     "output_type": "execute_result"
    },
    {
     "data": {
      "image/png": "[encoded data removed]",
      "text/plain": [
       "<Figure size 1008x360 with 1 Axes>"
      ]
     },
     "metadata": {
      "needs_background": "light"
     },
     "output_type": "display_data"
    }
   ],
   "source": [
    "for lc in lcs:\n",
    "    data = fits.getdata(lc, 1)\n",
    "    plt.errorbar(data['TIME'], data['AB_FLUX_AA'], yerr = data['AB_FLUX_AA_ERR'], marker='o', ls='none')\n",
    "# plt.xlim(65000+6.14e8, 67000+6.14e8)\n",
    "plt.xlim(87000+6.14e8, 90000+6.14e8)\n",
    "# plt.xlim()"
   ]
  },
  {
   "cell_type": "code",
   "execution_count": null,
   "id": "58d408c9-3e03-4edb-a6d8-7d18679a951f",
   "metadata": {},
   "outputs": [],
   "source": []
  }
 ],
 "metadata": {
  "kernelspec": {
   "display_name": "Python 3 (ipykernel)",
   "language": "python",
   "name": "python3"
  },
  "language_info": {
   "codemirror_mode": {
    "name": "ipython",
    "version": 3
   },
   "file_extension": ".py",
   "mimetype": "text/x-python",
   "name": "python",
   "nbconvert_exporter": "python",
   "pygments_lexer": "ipython3",
   "version": "3.7.13"
  }
 },
 "nbformat": 4,
 "nbformat_minor": 5
}
