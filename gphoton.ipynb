{
 "cells": [
  {
   "cell_type": "code",
   "execution_count": 14,
   "metadata": {},
   "outputs": [],
   "source": [
    "import numpy as np\n",
    "import matplotlib.pyplot as plt\n",
    "import astropy.io.fits as fits\n",
    "import os\n",
    "import glob\n",
    "from astropy.table import Table\n",
    "from astropy.io import ascii\n",
    "import astropy.units as u\n",
    "from scipy.optimize import leastsq\n",
    "import astropy.constants as const\n",
    "\n",
    "\n",
    "#matplotlib set up\n",
    "%matplotlib inline\n",
    "from matplotlib import rcParams\n",
    "rcParams[\"figure.figsize\"] = (14, 5)\n",
    "rcParams[\"font.size\"] = 20"
   ]
  },
  {
   "cell_type": "code",
   "execution_count": 45,
   "metadata": {},
   "outputs": [],
   "source": [
    "target = 'ltt1445a'\n",
    "ra = 45.462\n",
    "dec = -16.594\n",
    "step_size = 10.\n",
    "img_step_size = 30.\n",
    "img_size = (0.1, 0.1)\n",
    "phot_rad = 0.0045\n",
    "ap_in = 0.0050\n",
    "ap_out = 0.0060"
   ]
  },
  {
   "cell_type": "code",
   "execution_count": 46,
   "metadata": {},
   "outputs": [],
   "source": [
    "from gPhoton import gFind\n",
    "from gPhoton import gAperture\n",
    "from gPhoton import gMap"
   ]
  },
  {
   "cell_type": "code",
   "execution_count": 47,
   "metadata": {},
   "outputs": [
    {
     "name": "stdout",
     "output_type": "stream",
     "text": [
      "NUV: 1785.0s (raw) in 2 exposures.\n",
      "    [ 815463305.995, 815463418.995 ], 113.000 seconds\n",
      "    [ 876378756.995, 876380428.995 ], 1672.000 seconds\n",
      "FUV: 1785.0s (raw) in 2 exposures.\n",
      "    [ 815463305.995, 815463418.995 ], 113.000 seconds\n",
      "    [ 876378756.995, 876380428.995 ], 1672.000 seconds\n"
     ]
    }
   ],
   "source": [
    "exposures = gFind(band='Both',skypos=[ra,dec],maxgap=100.,minexp=100.)"
   ]
  },
  {
   "cell_type": "code",
   "execution_count": 48,
   "metadata": {},
   "outputs": [
    {
     "ename": "TypeError",
     "evalue": "object of type <class 'numpy.float64'> cannot be safely interpreted as an integer.",
     "output_type": "error",
     "traceback": [
      "\u001b[0;31m---------------------------------------------------------------------------\u001b[0m",
      "\u001b[0;31mTypeError\u001b[0m                                 Traceback (most recent call last)",
      "\u001b[0;32m/home/david/anaconda3/envs/astroconda/lib/python3.6/site-packages/numpy/core/function_base.py\u001b[0m in \u001b[0;36mlinspace\u001b[0;34m(start, stop, num, endpoint, retstep, dtype, axis)\u001b[0m\n\u001b[1;32m    116\u001b[0m     \u001b[0;32mtry\u001b[0m\u001b[0;34m:\u001b[0m\u001b[0;34m\u001b[0m\u001b[0;34m\u001b[0m\u001b[0m\n\u001b[0;32m--> 117\u001b[0;31m         \u001b[0mnum\u001b[0m \u001b[0;34m=\u001b[0m \u001b[0moperator\u001b[0m\u001b[0;34m.\u001b[0m\u001b[0mindex\u001b[0m\u001b[0;34m(\u001b[0m\u001b[0mnum\u001b[0m\u001b[0;34m)\u001b[0m\u001b[0;34m\u001b[0m\u001b[0;34m\u001b[0m\u001b[0m\n\u001b[0m\u001b[1;32m    118\u001b[0m     \u001b[0;32mexcept\u001b[0m \u001b[0mTypeError\u001b[0m\u001b[0;34m:\u001b[0m\u001b[0;34m\u001b[0m\u001b[0;34m\u001b[0m\u001b[0m\n",
      "\u001b[0;31mTypeError\u001b[0m: 'numpy.float64' object cannot be interpreted as an integer",
      "\nDuring handling of the above exception, another exception occurred:\n",
      "\u001b[0;31mTypeError\u001b[0m                                 Traceback (most recent call last)",
      "\u001b[0;32m<ipython-input-48-46105ecf9a49>\u001b[0m in \u001b[0;36m<module>\u001b[0;34m()\u001b[0m\n\u001b[1;32m      3\u001b[0m \u001b[0;31m#         trange=[876378756, 876380428], overwrite=True)\u001b[0m\u001b[0;34m\u001b[0m\u001b[0;34m\u001b[0m\u001b[0;34m\u001b[0m\u001b[0m\n\u001b[1;32m      4\u001b[0m \u001b[0;31m#\u001b[0m\u001b[0;34m\u001b[0m\u001b[0;34m\u001b[0m\u001b[0;34m\u001b[0m\u001b[0m\n\u001b[0;32m----> 5\u001b[0;31m \u001b[0mgMap\u001b[0m\u001b[0;34m(\u001b[0m\u001b[0mband\u001b[0m\u001b[0;34m=\u001b[0m\u001b[0;34m\"nuv\"\u001b[0m\u001b[0;34m,\u001b[0m \u001b[0mskypos\u001b[0m\u001b[0;34m=\u001b[0m\u001b[0;34m[\u001b[0m\u001b[0mra\u001b[0m\u001b[0;34m,\u001b[0m \u001b[0mdec\u001b[0m\u001b[0;34m]\u001b[0m\u001b[0;34m,\u001b[0m \u001b[0mskyrange\u001b[0m\u001b[0;34m=\u001b[0m\u001b[0mimg_size\u001b[0m\u001b[0;34m,\u001b[0m \u001b[0mcntfile\u001b[0m\u001b[0;34m=\u001b[0m\u001b[0;34m'galex_output/'\u001b[0m\u001b[0;34m+\u001b[0m\u001b[0mtarget\u001b[0m\u001b[0;34m+\u001b[0m\u001b[0;34m'_nuv_cube.fits'\u001b[0m\u001b[0;34m,\u001b[0m \u001b[0mverbose\u001b[0m\u001b[0;34m=\u001b[0m\u001b[0;36m3\u001b[0m\u001b[0;34m,\u001b[0m \u001b[0moverwrite\u001b[0m\u001b[0;34m=\u001b[0m\u001b[0;32mTrue\u001b[0m\u001b[0;34m)\u001b[0m\u001b[0;34m\u001b[0m\u001b[0;34m\u001b[0m\u001b[0m\n\u001b[0m\u001b[1;32m      6\u001b[0m \u001b[0;31m# gMap.check_args()\u001b[0m\u001b[0;34m\u001b[0m\u001b[0;34m\u001b[0m\u001b[0;34m\u001b[0m\u001b[0m\n",
      "\u001b[0;32m/home/david/anaconda3/envs/astroconda/lib/python3.6/site-packages/gPhoton/gMap.py\u001b[0m in \u001b[0;36mgmap\u001b[0;34m(band, cntfile, coadd, detsize, intfile, skypos, maxgap, memlight, minexp, overwrite, retries, skyrange, stepsz, trange, verbose, cntcoaddfile, intcoaddfile)\u001b[0m\n\u001b[1;32m    115\u001b[0m         trange = dbt.fGetTimeRanges(band, skypos, trange=[6.E8, 11.E8],\n\u001b[1;32m    116\u001b[0m                                     \u001b[0mmaxgap\u001b[0m\u001b[0;34m=\u001b[0m\u001b[0mmaxgap\u001b[0m\u001b[0;34m,\u001b[0m \u001b[0mminexp\u001b[0m\u001b[0;34m=\u001b[0m\u001b[0mminexp\u001b[0m\u001b[0;34m,\u001b[0m\u001b[0;34m\u001b[0m\u001b[0;34m\u001b[0m\u001b[0m\n\u001b[0;32m--> 117\u001b[0;31m                                     detsize=detsize, skyrange=skyrange)\n\u001b[0m\u001b[1;32m    118\u001b[0m     \u001b[0;32mif\u001b[0m \u001b[0mnp\u001b[0m\u001b[0;34m.\u001b[0m\u001b[0marray\u001b[0m\u001b[0;34m(\u001b[0m\u001b[0mtrange\u001b[0m\u001b[0;34m)\u001b[0m\u001b[0;34m.\u001b[0m\u001b[0msize\u001b[0m \u001b[0;34m==\u001b[0m \u001b[0;36m0\u001b[0m\u001b[0;34m:\u001b[0m\u001b[0;34m\u001b[0m\u001b[0;34m\u001b[0m\u001b[0m\n\u001b[1;32m    119\u001b[0m         \u001b[0mprint\u001b[0m\u001b[0;34m(\u001b[0m\u001b[0;34m'No data available.'\u001b[0m\u001b[0;34m)\u001b[0m\u001b[0;34m\u001b[0m\u001b[0;34m\u001b[0m\u001b[0m\n",
      "\u001b[0;32m/home/david/anaconda3/envs/astroconda/lib/python3.6/site-packages/gPhoton/dbasetools.py\u001b[0m in \u001b[0;36mfGetTimeRanges\u001b[0;34m(band, skypos, trange, detsize, verbose, maxgap, minexp, skyrange, maxgap_override, minexp_override)\u001b[0m\n\u001b[1;32m    262\u001b[0m         \u001b[0mtrange_buffer\u001b[0m \u001b[0;34m=\u001b[0m \u001b[0;34m(\u001b[0m\u001b[0mtrange\u001b[0m\u001b[0;34m[\u001b[0m\u001b[0;36m0\u001b[0m\u001b[0;34m]\u001b[0m\u001b[0;34m-\u001b[0m\u001b[0;36m1\u001b[0m\u001b[0;34m,\u001b[0m\u001b[0mtrange\u001b[0m\u001b[0;34m[\u001b[0m\u001b[0;36m1\u001b[0m\u001b[0;34m]\u001b[0m\u001b[0;34m+\u001b[0m\u001b[0;36m1\u001b[0m\u001b[0;34m)\u001b[0m\u001b[0;34m\u001b[0m\u001b[0;34m\u001b[0m\u001b[0m\n\u001b[1;32m    263\u001b[0m         times = get_valid_times(band, skypos, trange=trange_buffer,\n\u001b[0;32m--> 264\u001b[0;31m                             detsize=detsize, verbose=verbose, skyrange=skyrange)\n\u001b[0m\u001b[1;32m    265\u001b[0m         \u001b[0;32mif\u001b[0m \u001b[0mlen\u001b[0m\u001b[0;34m(\u001b[0m\u001b[0mtimes\u001b[0m\u001b[0;34m)\u001b[0m\u001b[0;34m:\u001b[0m\u001b[0;34m\u001b[0m\u001b[0;34m\u001b[0m\u001b[0m\n\u001b[1;32m    266\u001b[0m             \u001b[0mtimes\u001b[0m \u001b[0;34m=\u001b[0m \u001b[0mnp\u001b[0m\u001b[0;34m.\u001b[0m\u001b[0mappend\u001b[0m\u001b[0;34m(\u001b[0m\u001b[0mtimes\u001b[0m\u001b[0;34m,\u001b[0m\u001b[0mtimes\u001b[0m\u001b[0;34m[\u001b[0m\u001b[0;34m-\u001b[0m\u001b[0;36m1\u001b[0m\u001b[0;34m]\u001b[0m\u001b[0;34m+\u001b[0m\u001b[0;36m1\u001b[0m\u001b[0;34m)\u001b[0m\u001b[0;34m\u001b[0m\u001b[0;34m\u001b[0m\u001b[0m\n",
      "\u001b[0;32m/home/david/anaconda3/envs/astroconda/lib/python3.6/site-packages/gPhoton/dbasetools.py\u001b[0m in \u001b[0;36mget_valid_times\u001b[0;34m(band, skypos, trange, detsize, verbose, skyrange)\u001b[0m\n\u001b[1;32m    151\u001b[0m                                        \u001b[0mskypos\u001b[0m\u001b[0;34m[\u001b[0m\u001b[0;36m0\u001b[0m\u001b[0;34m]\u001b[0m\u001b[0;34m+\u001b[0m\u001b[0mskyrange\u001b[0m\u001b[0;34m[\u001b[0m\u001b[0;36m0\u001b[0m\u001b[0;34m]\u001b[0m\u001b[0;34m/\u001b[0m\u001b[0;36m2.\u001b[0m\u001b[0;34m,\u001b[0m\u001b[0;34m\u001b[0m\u001b[0;34m\u001b[0m\u001b[0m\n\u001b[1;32m    152\u001b[0m                                        \u001b[0mnp\u001b[0m\u001b[0;34m.\u001b[0m\u001b[0mceil\u001b[0m\u001b[0;34m(\u001b[0m\u001b[0mskyrange\u001b[0m\u001b[0;34m[\u001b[0m\u001b[0;36m0\u001b[0m\u001b[0;34m]\u001b[0m\u001b[0;34m/\u001b[0m\u001b[0;34m(\u001b[0m\u001b[0mdetsize\u001b[0m\u001b[0;34m/\u001b[0m\u001b[0;36m3.\u001b[0m\u001b[0;34m)\u001b[0m\u001b[0;34m)\u001b[0m\u001b[0;34m,\u001b[0m\u001b[0;34m\u001b[0m\u001b[0;34m\u001b[0m\u001b[0m\n\u001b[0;32m--> 153\u001b[0;31m                                        endpoint=True),\n\u001b[0m\u001b[1;32m    154\u001b[0m                            np.linspace(skypos[0], skypos[0]-skyrange[0]/2.,\n\u001b[1;32m    155\u001b[0m                                        \u001b[0mnp\u001b[0m\u001b[0;34m.\u001b[0m\u001b[0mceil\u001b[0m\u001b[0;34m(\u001b[0m\u001b[0mskyrange\u001b[0m\u001b[0;34m[\u001b[0m\u001b[0;36m0\u001b[0m\u001b[0;34m]\u001b[0m\u001b[0;34m/\u001b[0m\u001b[0;34m(\u001b[0m\u001b[0mdetsize\u001b[0m\u001b[0;34m/\u001b[0m\u001b[0;36m3.\u001b[0m\u001b[0;34m)\u001b[0m\u001b[0;34m)\u001b[0m\u001b[0;34m,\u001b[0m\u001b[0;34m\u001b[0m\u001b[0;34m\u001b[0m\u001b[0m\n",
      "\u001b[0;32m<__array_function__ internals>\u001b[0m in \u001b[0;36mlinspace\u001b[0;34m(*args, **kwargs)\u001b[0m\n",
      "\u001b[0;32m/home/david/anaconda3/envs/astroconda/lib/python3.6/site-packages/numpy/core/function_base.py\u001b[0m in \u001b[0;36mlinspace\u001b[0;34m(start, stop, num, endpoint, retstep, dtype, axis)\u001b[0m\n\u001b[1;32m    119\u001b[0m         raise TypeError(\n\u001b[1;32m    120\u001b[0m             \u001b[0;34m\"object of type {} cannot be safely interpreted as an integer.\"\u001b[0m\u001b[0;34m\u001b[0m\u001b[0;34m\u001b[0m\u001b[0m\n\u001b[0;32m--> 121\u001b[0;31m                 .format(type(num)))\n\u001b[0m\u001b[1;32m    122\u001b[0m \u001b[0;34m\u001b[0m\u001b[0m\n\u001b[1;32m    123\u001b[0m     \u001b[0;32mif\u001b[0m \u001b[0mnum\u001b[0m \u001b[0;34m<\u001b[0m \u001b[0;36m0\u001b[0m\u001b[0;34m:\u001b[0m\u001b[0;34m\u001b[0m\u001b[0;34m\u001b[0m\u001b[0m\n",
      "\u001b[0;31mTypeError\u001b[0m: object of type <class 'numpy.float64'> cannot be safely interpreted as an integer."
     ]
    }
   ],
   "source": [
    "# gMap(band=\"nuv\", skypos=[ra, dec], stepsz=img_step_size, skyrange=img_size,\n",
    "#         cntfile='galex_output/'+target+'_nuv_cube.fits', cntcoaddfile='galex_output/'+target+'nuv_coadd.fits', verbose=3,\n",
    "#         trange=[876378756, 876380428], overwrite=True)\n",
    "#\n",
    "gMap(band=\"nuv\", skypos=[ra, dec], skyrange=img_size, cntfile='galex_output/'+target+'_nuv_cube.fits', verbose=3, overwrite=True)\n",
    "# gMap.check_args()"
   ]
  },
  {
   "cell_type": "code",
   "execution_count": 9,
   "metadata": {},
   "outputs": [
    {
     "name": "stdout",
     "output_type": "stream",
     "text": [
      "Using v1.28.9 of gAperture.\n",
      "Generating a light curve with the following paramters:\n",
      " band:    NUV\n",
      " skypos:  [45.462, -16.594]\n",
      " tranges: None\n",
      " radius:  0.0045\n",
      " annulus: [0.005, 0.006]\n",
      " stepsz:  10.0\n",
      " csvfile: galex_output/ltt1445a_nuv_10.0slc.csv\n",
      " verbose: 3\n",
      "COMPLETE                                                    \r"
     ]
    },
    {
     "name": "stderr",
     "output_type": "stream",
     "text": [
      "/home/david/anaconda3/envs/astroconda/lib/python3.6/site-packages/gPhoton/curvetools.py:427: RuntimeWarning: invalid value encountered in sqrt\n",
      "  return np.sqrt(counts/expt**2+bgcounts/expt**2)\n"
     ]
    },
    {
     "name": "stdout",
     "output_type": "stream",
     "text": [
      "Building output data frame.                                                                                             \r"
     ]
    }
   ],
   "source": [
    "nuv_photon_events = gAperture(band='NUV', skypos=[ra, dec], stepsz=step_size, radius=phot_rad,\n",
    "                             annulus=[ap_in, ap_out], verbose=3, csvfile='galex_output/{}_nuv_{}slc.csv'.format(target, step_size), \n",
    "                              overwrite=True)"
   ]
  },
  {
   "cell_type": "code",
   "execution_count": 24,
   "metadata": {},
   "outputs": [
    {
     "name": "stderr",
     "output_type": "stream",
     "text": [
      "WARNING: OverflowError converting to FloatType in column bg_counts, possibly resulting in degraded precision. [astropy.io.ascii.fastbasic]\n",
      "WARNING: OverflowError converting to FloatType in column bg_flat_counts, possibly resulting in degraded precision. [astropy.io.ascii.fastbasic]\n",
      "WARNING: OverflowError converting to FloatType in column bg, possibly resulting in degraded precision. [astropy.io.ascii.fastbasic]\n"
     ]
    }
   ],
   "source": [
    "nuv= Table.read('galex_output/{}_nuv_{}slc.csv'.format(target, step_size))\n"
   ]
  },
  {
   "cell_type": "code",
   "execution_count": 20,
   "metadata": {},
   "outputs": [
    {
     "name": "stdout",
     "output_type": "stream",
     "text": [
      "4.332645288899168e-16\n"
     ]
    },
    {
     "data": {
      "image/png": "[encoded data removed]",
      "text/plain": [
       "<Figure size 1008x360 with 1 Axes>"
      ]
     },
     "metadata": {
      "needs_background": "light"
     },
     "output_type": "display_data"
    },
    {
     "name": "stdout",
     "output_type": "stream",
     "text": [
      "5.684033334346443e-16\n"
     ]
    },
    {
     "name": "stderr",
     "output_type": "stream",
     "text": [
      "/home/david/anaconda3/envs/astroconda/lib/python3.6/site-packages/numpy/core/_asarray.py:138: UserWarning: Warning: converting a masked element to nan.\n",
      "  return array(a, dtype, copy=False, order=order, subok=True)\n"
     ]
    },
    {
     "data": {
      "image/png": "[encoded data removed]",
      "text/plain": [
       "<Figure size 1008x360 with 1 Axes>"
      ]
     },
     "metadata": {
      "needs_background": "light"
     },
     "output_type": "display_data"
    }
   ],
   "source": [
    "t, f, e, q = nuv['t_mean'], nuv['flux_bgsub'], nuv['flux_bgsub_err'], nuv['flags']\n",
    "t, f, e = t[q==0], f[q==0], e[q==0]\n",
    "#plt.errorbar(t-t[0], f, yerr=e, ls='none', marker='o')\n",
    "t0s, t1s = exposures['NUV']['t0'], exposures['NUV']['t1']\n",
    "for t0, t1 in zip(t0s, t1s):\n",
    "    mask = (t >=t0) & (t <=t1)\n",
    "    print(np.median(f[mask]))\n",
    "    plt.errorbar(t[mask], f[mask], yerr=e[mask], ls='none', marker='o')\n",
    "#     plt.xlim(t0-20, t0+1397.)\n",
    "    plt.ylim(0, 1e-15)\n",
    "    plt.show()\n",
    "   # if (t1 - t0) > 900:\n",
    "#     lc = lk.LightCurve(time=t[mask]*u.s, flux=f[mask], flux_err=e[mask])\n",
    "#     pg = lc.to_periodogram(oversample_factor= 10, minimum_period=20*u.s, maximum_period=200*u.s)\n",
    "#     plt.plot(pg.period.to(u.s), pg.power)\n",
    "#     print(pg.period_at_max_power.to(u.s))\n",
    "    \n",
    "#     plt.show()\n",
    "    "
   ]
  },
  {
   "cell_type": "code",
   "execution_count": 21,
   "metadata": {},
   "outputs": [
    {
     "name": "stdout",
     "output_type": "stream",
     "text": [
      "Using v1.28.9 of gAperture.\n",
      "Generating a light curve with the following paramters:\n",
      " band:    FUV\n",
      " skypos:  [45.462, -16.594]\n",
      " tranges: None\n",
      " radius:  0.0045\n",
      " annulus: [0.005, 0.006]\n",
      " stepsz:  10.0\n",
      " csvfile: galex_output/ltt1445a_fuv_10.0slc.csv\n",
      " verbose: 3\n",
      "Downloading https://archive.stsci.edu/prepds/gphoton/cal/cal//FUV_flat.fits to /home/david/anaconda3/envs/astroconda/lib/python3.6/site-packages/gPhoton/cal\n",
      "[========================================]  2.44Mb / 2.44Mb    \n",
      "COMPLETE                                                    \r"
     ]
    },
    {
     "name": "stderr",
     "output_type": "stream",
     "text": [
      "/home/david/anaconda3/envs/astroconda/lib/python3.6/site-packages/gPhoton/MCUtils.py:54: RuntimeWarning: overflow encountered in square\n",
      "  return np.sqrt((a-c)**2. + (b-d)**2.)\n",
      "/home/david/anaconda3/envs/astroconda/lib/python3.6/site-packages/gPhoton/curvetools.py:427: RuntimeWarning: invalid value encountered in sqrt\n",
      "  return np.sqrt(counts/expt**2+bgcounts/expt**2)\n"
     ]
    },
    {
     "name": "stdout",
     "output_type": "stream",
     "text": [
      "Downloading https://archive.stsci.edu/prepds/gphoton/cal/cal//FUV_mask.fits to /home/david/anaconda3/envs/astroconda/lib/python3.6/site-packages/gPhoton/cal\n",
      "[========================================]  2.44Mb / 2.44Mb    \n",
      "Building output data frame.                                                                                             \r"
     ]
    }
   ],
   "source": [
    "fuv_photon_events = gAperture(band='FUV', skypos=[ra, dec], stepsz=step_size, radius=phot_rad,\n",
    "                             annulus=[ap_in, ap_out], verbose=3, csvfile='galex_output/{}_fuv_{}slc.csv'.format(target, step_size), \n",
    "                              overwrite=True)"
   ]
  },
  {
   "cell_type": "code",
   "execution_count": 23,
   "metadata": {},
   "outputs": [
    {
     "name": "stderr",
     "output_type": "stream",
     "text": [
      "WARNING: OverflowError converting to FloatType in column cps, possibly resulting in degraded precision. [astropy.io.ascii.fastbasic]\n",
      "WARNING: OverflowError converting to FloatType in column flux, possibly resulting in degraded precision. [astropy.io.ascii.fastbasic]\n",
      "WARNING: OverflowError converting to FloatType in column bg_counts, possibly resulting in degraded precision. [astropy.io.ascii.fastbasic]\n",
      "WARNING: OverflowError converting to FloatType in column bg_flat_counts, possibly resulting in degraded precision. [astropy.io.ascii.fastbasic]\n",
      "WARNING: OverflowError converting to FloatType in column bg, possibly resulting in degraded precision. [astropy.io.ascii.fastbasic]\n"
     ]
    }
   ],
   "source": [
    "fuv= Table.read('galex_output/{}_fuv_{}slc.csv'.format(target, step_size))\n"
   ]
  },
  {
   "cell_type": "code",
   "execution_count": 30,
   "metadata": {},
   "outputs": [
    {
     "name": "stdout",
     "output_type": "stream",
     "text": [
      "3.5165910131255464e-16\n"
     ]
    },
    {
     "data": {
      "image/png": "[encoded data removed]",
      "text/plain": [
       "<Figure size 1008x360 with 1 Axes>"
      ]
     },
     "metadata": {
      "needs_background": "light"
     },
     "output_type": "display_data"
    },
    {
     "name": "stdout",
     "output_type": "stream",
     "text": [
      "3.1091744977889693e-16\n"
     ]
    },
    {
     "name": "stderr",
     "output_type": "stream",
     "text": [
      "/home/david/anaconda3/envs/astroconda/lib/python3.6/site-packages/numpy/core/_asarray.py:138: UserWarning: Warning: converting a masked element to nan.\n",
      "  return array(a, dtype, copy=False, order=order, subok=True)\n"
     ]
    },
    {
     "data": {
      "image/png": "[encoded data removed]",
      "text/plain": [
       "<Figure size 1008x360 with 1 Axes>"
      ]
     },
     "metadata": {
      "needs_background": "light"
     },
     "output_type": "display_data"
    }
   ],
   "source": [
    "t, f, e, q = fuv['t_mean'], fuv['flux_bgsub'], fuv['flux_bgsub_err'], fuv['flags']\n",
    "t, f, e = t[q==0], f[q==0], e[q==0]\n",
    "t, f, e = t[f>0], f[f>0], e[f>0]\n",
    "\n",
    "#plt.errorbar(t-t[0], f, yerr=e, ls='none', marker='o')\n",
    "t0s, t1s = exposures['NUV']['t0'], exposures['NUV']['t1']\n",
    "for t0, t1 in zip(t0s, t1s):\n",
    "    mask = (t >=t0) & (t <=t1)\n",
    "    print(np.median(f[mask]))\n",
    "    plt.errorbar(t[mask], f[mask], yerr=e[mask], ls='none', marker='o')\n",
    "#     plt.xlim(t0-20, t0+1397.)\n",
    "    plt.ylim(-1e-15, 3e-15)\n",
    "    plt.show()\n",
    "   # if (t1 - t0) > 900:\n",
    "#     lc = lk.LightCurve(time=t[mask]*u.s, flux=f[mask], flux_err=e[mask])\n",
    "#     pg = lc.to_periodogram(oversample_factor= 10, minimum_period=20*u.s, maximum_period=200*u.s)\n",
    "#     plt.plot(pg.period.to(u.s), pg.power)\n",
    "#     print(pg.period_at_max_power.to(u.s))\n",
    "    \n",
    "#     plt.show()\n",
    "    "
   ]
  },
  {
   "cell_type": "code",
   "execution_count": null,
   "metadata": {},
   "outputs": [],
   "source": []
  }
 ],
 "metadata": {
  "kernelspec": {
   "display_name": "Python (stsci)",
   "language": "python",
   "name": "myenv"
  },
  "language_info": {
   "codemirror_mode": {
    "name": "ipython",
    "version": 3
   },
   "file_extension": ".py",
   "mimetype": "text/x-python",
   "name": "python",
   "nbconvert_exporter": "python",
   "pygments_lexer": "ipython3",
   "version": "3.6.13"
  }
 },
 "nbformat": 4,
 "nbformat_minor": 4
}
