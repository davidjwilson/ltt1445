{
 "cells": [
  {
   "cell_type": "markdown",
   "metadata": {},
   "source": [
    "Let's see if we detected anything this time?"
   ]
  },
  {
   "cell_type": "code",
   "execution_count": 2,
   "metadata": {},
   "outputs": [],
   "source": [
    "import numpy as np\n",
    "import matplotlib.pyplot as plt\n",
    "import astropy.io.fits as fits\n",
    "import os\n",
    "import glob\n",
    "from astropy.table import Table\n",
    "from astropy.io import ascii\n",
    "import astropy.units as u\n",
    "import astropy.constants as const\n",
    "\n",
    "#matplotlib set up\n",
    "%matplotlib inline\n",
    "from matplotlib import rcParams\n",
    "rcParams[\"figure.figsize\"] = (14, 5)\n",
    "rcParams[\"font.size\"] = 20"
   ]
  },
  {
   "cell_type": "code",
   "execution_count": 3,
   "metadata": {},
   "outputs": [],
   "source": [
    "path = '/media/david/5tb_storage1/muscles/ltt1445/hst/redo_data/'"
   ]
  },
  {
   "cell_type": "code",
   "execution_count": 4,
   "metadata": {},
   "outputs": [
    {
     "name": "stdout",
     "output_type": "stream",
     "text": [
      "['/media/david/5tb_storage1/muscles/ltt1445/hst/redo_data/oe83h3020_x1d.fits', '/media/david/5tb_storage1/muscles/ltt1445/hst/redo_data/oe83h3030_x1d.fits']\n",
      "[]\n"
     ]
    }
   ],
   "source": [
    "x1ds = glob.glob(path+'*x1d.fits')\n",
    "print(x1ds)\n",
    "sx1s = glob.glob(path+'sx1.fits')\n",
    "print(sx1s)"
   ]
  },
  {
   "cell_type": "markdown",
   "metadata": {},
   "source": [
    "No sx1 - no sign of any flux in the ccd raw images. Huh? There should at least be something at longer wavelengths?"
   ]
  },
  {
   "cell_type": "code",
   "execution_count": 5,
   "metadata": {},
   "outputs": [
    {
     "name": "stdout",
     "output_type": "stream",
     "text": [
      "G230L\n"
     ]
    },
    {
     "data": {
      "image/png": "[encoded data removed]",
      "text/plain": [
       "<Figure size 1008x360 with 1 Axes>"
      ]
     },
     "metadata": {
      "needs_background": "light"
     },
     "output_type": "display_data"
    },
    {
     "name": "stdout",
     "output_type": "stream",
     "text": [
      "G140M\n"
     ]
    },
    {
     "data": {
      "image/png": "[encoded data removed]",
      "text/plain": [
       "<Figure size 1008x360 with 1 Axes>"
      ]
     },
     "metadata": {
      "needs_background": "light"
     },
     "output_type": "display_data"
    }
   ],
   "source": [
    "for x in x1ds:\n",
    "    hdul = fits.open(x)\n",
    "    print(hdul[0].header['OPT_ELEM'])\n",
    "    data = hdul[1].data[0]\n",
    "    hdul.close()\n",
    "    #plt.step(data['WAVELENGTH'][data['DQ']==0], data['FLUX'][data['DQ']==0])\n",
    "    plt.step(data['WAVELENGTH'], data['DQ'])\n",
    "    plt.show()\n",
    "    "
   ]
  },
  {
   "cell_type": "code",
   "execution_count": 6,
   "metadata": {},
   "outputs": [
    {
     "data": {
      "text/plain": [
       "XTENSION= 'BINTABLE'           / binary table extension                         \n",
       "BITPIX  =                    8 / 8-bit bytes                                    \n",
       "NAXIS   =                    2 / 2-dimensional binary table                     \n",
       "NAXIS1  =                38946 / width of table in bytes                        \n",
       "NAXIS2  =                    1 / number of rows in table                        \n",
       "PCOUNT  =                    0 / size of special data area                      \n",
       "GCOUNT  =                    1 / one data group (required keyword)              \n",
       "TFIELDS =                   19 / number of fields in each row                   \n",
       "TTYPE1  = 'SPORDER '           / label for field   1                            \n",
       "TFORM1  = '1I      '           / data format of field: 2-byte INTEGER           \n",
       "TTYPE2  = 'NELEM   '           / label for field   2                            \n",
       "TFORM2  = '1I      '           / data format of field: 2-byte INTEGER           \n",
       "TTYPE3  = 'WAVELENGTH'         / label for field   3                            \n",
       "TFORM3  = '1024D   '           / data format of field: 8-byte DOUBLE            \n",
       "TUNIT3  = 'Angstroms'          / physical unit of field                         \n",
       "TTYPE4  = 'GROSS   '           / label for field   4                            \n",
       "TFORM4  = '1024E   '           / data format of field: 4-byte REAL              \n",
       "TUNIT4  = 'Counts/s'           / physical unit of field                         \n",
       "TTYPE5  = 'BACKGROUND'         / label for field   5                            \n",
       "TFORM5  = '1024E   '           / data format of field: 4-byte REAL              \n",
       "TUNIT5  = 'Counts/s'           / physical unit of field                         \n",
       "TTYPE6  = 'NET     '           / label for field   6                            \n",
       "TFORM6  = '1024E   '           / data format of field: 4-byte REAL              \n",
       "TUNIT6  = 'Counts/s'           / physical unit of field                         \n",
       "TTYPE7  = 'FLUX    '           / label for field   7                            \n",
       "TFORM7  = '1024E   '           / data format of field: 4-byte REAL              \n",
       "TUNIT7  = 'erg/s/cm**2/Angstrom' / physical unit of field                       \n",
       "TTYPE8  = 'ERROR   '           / label for field   8                            \n",
       "TFORM8  = '1024E   '           / data format of field: 4-byte REAL              \n",
       "TUNIT8  = 'erg/s/cm**2/Angstrom' / physical unit of field                       \n",
       "TTYPE9  = 'NET_ERROR'          / label for field   9                            \n",
       "TFORM9  = '1024E   '           / data format of field: 4-byte REAL              \n",
       "TUNIT9  = 'Counts/s'           / physical unit of field                         \n",
       "TTYPE10 = 'DQ      '           / label for field  10                            \n",
       "TFORM10 = '1024I   '           / data format of field: 2-byte INTEGER           \n",
       "TTYPE11 = 'A2CENTER'           / label for field  11                            \n",
       "TFORM11 = '1E      '           / data format of field: 4-byte REAL              \n",
       "TUNIT11 = 'pixel   '           / physical unit of field                         \n",
       "TTYPE12 = 'EXTRSIZE'           / label for field  12                            \n",
       "TFORM12 = '1E      '           / data format of field: 4-byte REAL              \n",
       "TUNIT12 = 'pixel   '           / physical unit of field                         \n",
       "TTYPE13 = 'MAXSRCH '           / label for field  13                            \n",
       "TFORM13 = '1I      '           / data format of field: 2-byte INTEGER           \n",
       "TUNIT13 = 'pixel   '           / physical unit of field                         \n",
       "TTYPE14 = 'BK1SIZE '           / label for field  14                            \n",
       "TFORM14 = '1E      '           / data format of field: 4-byte REAL              \n",
       "TUNIT14 = 'pixel   '           / physical unit of field                         \n",
       "TTYPE15 = 'BK2SIZE '           / label for field  15                            \n",
       "TFORM15 = '1E      '           / data format of field: 4-byte REAL              \n",
       "TUNIT15 = 'pixel   '           / physical unit of field                         \n",
       "TTYPE16 = 'BK1OFFST'           / label for field  16                            \n",
       "TFORM16 = '1E      '           / data format of field: 4-byte REAL              \n",
       "TUNIT16 = 'pixel   '           / physical unit of field                         \n",
       "TTYPE17 = 'BK2OFFST'           / label for field  17                            \n",
       "TFORM17 = '1E      '           / data format of field: 4-byte REAL              \n",
       "TUNIT17 = 'pixel   '           / physical unit of field                         \n",
       "TTYPE18 = 'EXTRLOCY'           / label for field  18                            \n",
       "TFORM18 = '1024E   '           / data format of field: 4-byte REAL              \n",
       "TUNIT18 = 'pixel   '           / physical unit of field                         \n",
       "TTYPE19 = 'OFFSET  '           / label for field  19                            \n",
       "TFORM19 = '1E      '           / data format of field: 4-byte REAL              \n",
       "TUNIT19 = 'pixel   '           / physical unit of field                         \n",
       "TDISP1  = 'I11     '           / display format for column                      \n",
       "TNULL1  =               -32767 / undefined value for column                     \n",
       "TDISP2  = 'I11     '           / display format for column                      \n",
       "TNULL2  =               -32767 / undefined value for column                     \n",
       "TDISP3  = 'G25.16  '           / display format for column                      \n",
       "TDISP4  = 'G15.7   '           / display format for column                      \n",
       "TDISP5  = 'G15.7   '           / display format for column                      \n",
       "TDISP6  = 'G15.7   '           / display format for column                      \n",
       "TDISP7  = 'G15.7   '           / display format for column                      \n",
       "TDISP8  = 'G15.7   '           / display format for column                      \n",
       "TDISP9  = 'G15.7   '           / display format for column                      \n",
       "TDISP10 = 'I11     '           / display format for column                      \n",
       "TNULL10 =               -32767 / undefined value for column                     \n",
       "TDISP11 = 'G15.7   '           / display format for column                      \n",
       "TDISP12 = 'G15.7   '           / display format for column                      \n",
       "TDISP13 = 'I11     '           / display format for column                      \n",
       "TNULL13 =               -32767 / undefined value for column                     \n",
       "TDISP14 = 'G15.7   '           / display format for column                      \n",
       "TDISP15 = 'G15.7   '           / display format for column                      \n",
       "TDISP16 = 'G15.7   '           / display format for column                      \n",
       "TDISP17 = 'G15.7   '           / display format for column                      \n",
       "TDISP18 = 'G15.7   '           / display format for column                      \n",
       "TDISP19 = 'G15.7   '           / display format for column                      \n",
       "INHERIT =                    T / inherit the primary header                     \n",
       "EXTNAME = 'SCI     '           / extension name                                 \n",
       "EXTVER  =                    1 / extension version number                       \n",
       "ROOTNAME= 'oe83h3030'          / rootname of the observation set                \n",
       "EXPNAME = 'oe83h3ntq'          / exposure identifier                            \n",
       "ASN_MTYP= 'SCIENCE '           / Role of the Member in the Association          \n",
       "WCSAXES =                    2 / number of World Coordinate System axes         \n",
       "LTV1    =                   0. / offset in X to subsection start                \n",
       "LTV2    =                   0. / offset in Y to subsection start                \n",
       "LTM1_1  =                   1. / reciprocal of sampling rate in X               \n",
       "LTM2_2  =                   1. / reciprocal of sampling rate in Y               \n",
       "RA_APER =       45.46361935759 / RA of aperture reference position              \n",
       "DEC_APER=      -16.59370718337 / Declination of aperture reference position     \n",
       "PA_APER =       -179.525191333 / Position Angle of reference aperture center (de\n",
       "DISPAXIS=                    1 / dispersion axis; 1 = axis 1, 2 = axis 2, none  \n",
       "SHIFTA1 =      -6.490631163753 / Spectrum shift in AXIS1 calculated from WAVECAL\n",
       "SHIFTA2 =      -18.23572611692 / Spectrum shift in AXIS2 calculated from WAVECAL\n",
       "ORIENTAT=             -179.175 / position angle of image y axis (deg. e of n)   \n",
       "SUNANGLE=            56.273483 / angle between sun and V1 axis                  \n",
       "MOONANGL=            28.772736 / angle between moon and V1 axis                 \n",
       "SUN_ALT =           100.128517 / altitude of the sun above Earth's limb         \n",
       "FGSLOCK = 'FINE    '           / commanded FGS lock (FINE,COARSE,GYROS,UNKNOWN) \n",
       "GYROMODE= 'T       '           / number of gyros scheduled, T=3+OBAD            \n",
       "REFFRAME= 'ICRS    '           / guide star catalog version                     \n",
       "DATE-OBS= '2020-06-17'         / UT date of start of observation (yyyy-mm-dd)   \n",
       "TIME-OBS= '10:26:35'           / UT time of start of observation (hh:mm:ss)     \n",
       "EXPSTART=       59017.43513712 / exposure start time (Modified Julian Date)     \n",
       "EXPEND  =       59017.44083156 / exposure end time (Modified Julian Date)       \n",
       "EXPTIME =           491.994625 / exposure duration (seconds)--calculated        \n",
       "EXPFLAG = 'NORMAL  '           / Exposure interruption indicator                \n",
       "QUALCOM1= '        '                                                            \n",
       "QUALCOM2= '        '                                                            \n",
       "QUALCOM3= '        '                                                            \n",
       "QUALITY = '        '                                                            \n",
       "V_HELIO =    -18.6437875465901 / heliocentric radial velocity (km/s)            \n",
       "PATTSTEP=                    0 / position number of this point in the pattern   \n",
       "NCOMBINE=                    1 / number of image sets combined during CR rejecti\n",
       "FILLCNT =                    0 / number of segments containing fill             \n",
       "ERRCNT  =                    0 / number of segments containing errors           \n",
       "PODPSFF =                    F / podps fill present (T/F)                       \n",
       "STDCFFF =                    F / science telemetry fill data present (T=1/F=0)  \n",
       "STDCFFP = '0x5569  '           / science telemetry fill pattern (hex)           \n",
       "OSWABSP =              1153479 / Slit Wheel Absolute position                   \n",
       "OMSCYL1P=                 4758 / Mode select cylinder 1 position                \n",
       "OMSCYL3P=                 1779 / Mode select cylinder 3 position                \n",
       "OMSCYL4P=                 4545 / Mode select cylinder 4 position                \n",
       "GLOBRATE=       101.8669665344 / global count rate                              \n",
       "GLOBLIM = 'NOT-EXCEEDED'       / was global linearity level exceeded?           \n",
       "OM1CAT  =              36.4959 / (dgC) M1 charge amplifier temp                 \n",
       "OM2CAT  =              36.9843 / (dgC) M2 charge amplifier temp                 \n",
       "DOPPON  =                    T / on-board doppler correction enabled            \n",
       "DOPPZERO=       59017.42546375 / Doppler shift zero phase time (MJD)            \n",
       "DOPPMAG =                    1 / Doppler shift magnitude (hi-res pixels)        \n",
       "DOPPER  =                5721. / Doppler shift period (seconds)                 \n",
       "ORBITPER=                5721. / Orbital Period used on board for Doppler corr. \n",
       "NGOODPIX=              1020952 / number of good pixels                          \n",
       "SDQFLAGS=                31743 / serious data quality flags                     \n",
       "GOODMIN =        -0.0076384321 / minimum value of good pixels                   \n",
       "GOODMAX =            20.289143 / maximum value of good pixels                   \n",
       "GOODMEAN=          0.044935185 / mean value of good pixels                      \n",
       "SNRMIN  =            -166.9501 / minimum signal to noise of good pixels         \n",
       "SNRMAX  =            4.4705129 / maximum signal to noise of good pixels         \n",
       "SNRMEAN =           -142.71854 / mean value of signal to noise of good pixels   \n",
       "SOFTERRS=                    0 / number of soft error pixels (DQF=1)            \n",
       "MEANDARK=          0.003109406 / average of the dark values subtracted          \n",
       "SPORDER =                    1 / Spectral order                                 \n",
       "DIFF2PT =                   1. / Diffuse to point source conversion factor      \n",
       "CONT2EML=                   0. / Intensity conversion: continuum -> emission    \n",
       "SCALE_A1=                   0. / Size of one pixel (arcsec) along dispersion axi\n",
       "OMEGAPIX=                   0. / Solid angle (arcsec**2) subtended by one pixel \n",
       "CRSCROFF=      1000.9631757469 / offset from 1-D extraction cross-corr.         "
      ]
     },
     "execution_count": 6,
     "metadata": {},
     "output_type": "execute_result"
    }
   ],
   "source": [
    "hdul[1].header"
   ]
  },
  {
   "cell_type": "markdown",
   "metadata": {},
   "source": [
    "DQ filters out everything! No Mg ii lines- check raw data..."
   ]
  },
  {
   "cell_type": "markdown",
   "metadata": {},
   "source": [
    "Mucking around with the Swift data to do a gif..."
   ]
  },
  {
   "cell_type": "code",
   "execution_count": 7,
   "metadata": {},
   "outputs": [
    {
     "data": {
      "text/plain": [
       "['/media/david/5tb_storage1/muscles/ltt1445/swift/00012837002',\n",
       " '/media/david/5tb_storage1/muscles/ltt1445/swift/00012837003']"
      ]
     },
     "execution_count": 7,
     "metadata": {},
     "output_type": "execute_result"
    }
   ],
   "source": [
    "spath = '/media/david/5tb_storage1/muscles/ltt1445/swift/'\n",
    "sobs = glob.glob(spath+'00*')\n",
    "sobs"
   ]
  },
  {
   "cell_type": "code",
   "execution_count": 8,
   "metadata": {},
   "outputs": [
    {
     "data": {
      "image/png": "[encoded data removed]",
      "text/plain": [
       "<Figure size 360x360 with 1 Axes>"
      ]
     },
     "metadata": {
      "needs_background": "light"
     },
     "output_type": "display_data"
    },
    {
     "data": {
      "image/png": "[encoded data removed]",
      "text/plain": [
       "<Figure size 360x360 with 1 Axes>"
      ]
     },
     "metadata": {
      "needs_background": "light"
     },
     "output_type": "display_data"
    }
   ],
   "source": [
    "from matplotlib.colors import LogNorm\n",
    "from pylab import cm  \n",
    "for sob in sobs:\n",
    "    dpath = glob.glob('{}/uvot/event/clean*'.format(sob))[0]\n",
    "    data = fits.getdata(dpath, 1)\n",
    "    plt.figure(figsize=(5, 5))\n",
    "    \n",
    "    NBINS = (500,500)\n",
    "    img_zero_mpl = plt.hist2d(data['RAWX'], data['RAWY'], NBINS, cmap='gray', norm=LogNorm())\n",
    "    lims = [1000, 1300]\n",
    "    plt.xlim(lims)\n",
    "    plt.ylim(lims)\n",
    "\n",
    "    #cbar = plt.colorbar(ticks=[1.0,3.0,6.0])\n",
    " #   cbar.ax.set_yticklabels(['1','3','6'])\n",
    "\n",
    "   # plt.xlabel('x')\n",
    "   #plt.ylabel('y')\n",
    "\n",
    "   # plt.hist2d(data['RAWX'], data['RAWY'], bins=100)\n",
    "    plt.show()\n",
    "                      "
   ]
  },
  {
   "cell_type": "code",
   "execution_count": 9,
   "metadata": {},
   "outputs": [
    {
     "data": {
      "text/plain": [
       "<SkyCoord (ICRS): (ra, dec, distance) in (deg, deg, pc)\n",
       "    (45.464125, -16.59336111, 6.87285223)\n",
       " (pm_ra_cosdec, pm_dec) in mas / yr\n",
       "    (-369.2, -268.3)>"
      ]
     },
     "execution_count": 9,
     "metadata": {},
     "output_type": "execute_result"
    }
   ],
   "source": [
    "from astropy.time import Time\n",
    "from astropy.coordinates import SkyCoord, Distance\n",
    "\n",
    "c = SkyCoord(ra='03h01m51.39s', dec='-16d35m36.1s', distance = Distance(parallax=0.1455e3*u.mas), frame='icrs', pm_ra_cosdec = -369.2*u.mas/u.yr, pm_dec= -268.3*u.mas/u.yr, obstime=Time(2015.05, format='decimalyear'))\n",
    "c"
   ]
  },
  {
   "cell_type": "code",
   "execution_count": 10,
   "metadata": {},
   "outputs": [],
   "source": [
    "c2 = c.apply_space_motion(new_obstime=Time('2020-06-17 10:13:11'))"
   ]
  },
  {
   "cell_type": "code",
   "execution_count": 11,
   "metadata": {},
   "outputs": [
    {
     "data": {
      "text/plain": [
       "hms_tuple(h=3.0, m=1.0, s=51.25104314095822)"
      ]
     },
     "execution_count": 11,
     "metadata": {},
     "output_type": "execute_result"
    }
   ],
   "source": [
    "c2.ra.hms"
   ]
  },
  {
   "cell_type": "code",
   "execution_count": 12,
   "metadata": {},
   "outputs": [
    {
     "data": {
      "text/plain": [
       "dms_tuple(d=-16.0, m=-35.0, s=-37.55162745037239)"
      ]
     },
     "execution_count": 12,
     "metadata": {},
     "output_type": "execute_result"
    }
   ],
   "source": [
    "c2.dec.dms"
   ]
  },
  {
   "cell_type": "code",
   "execution_count": 13,
   "metadata": {},
   "outputs": [
    {
     "data": {
      "text/plain": [
       "6.872852233676976"
      ]
     },
     "execution_count": 13,
     "metadata": {},
     "output_type": "execute_result"
    }
   ],
   "source": [
    "1/0.1455"
   ]
  },
  {
   "cell_type": "code",
   "execution_count": 89,
   "metadata": {},
   "outputs": [],
   "source": [
    "c3 = SkyCoord(ra=45.46247805566359*u.degree, dec=-16.594495614724412*u.degree, distance = Distance(parallax=0.1455e3*u.mas), frame='icrs', pm_ra_cosdec = -369.2*u.mas/u.yr, pm_dec= -268.3*u.mas/u.yr, obstime=Time(2015.05, format='decimalyear'))\n"
   ]
  },
  {
   "cell_type": "code",
   "execution_count": 90,
   "metadata": {},
   "outputs": [],
   "source": [
    "c4 = c3.apply_space_motion(new_obstime=Time('2020-06-17 10:13:11'))"
   ]
  },
  {
   "cell_type": "code",
   "execution_count": 91,
   "metadata": {},
   "outputs": [
    {
     "data": {
      "text/plain": [
       "hms_tuple(h=3.0, m=1.0, s=50.85577568027123)"
      ]
     },
     "execution_count": 91,
     "metadata": {},
     "output_type": "execute_result"
    }
   ],
   "source": [
    "c4.ra.hms"
   ]
  },
  {
   "cell_type": "code",
   "execution_count": 92,
   "metadata": {},
   "outputs": [
    {
     "data": {
      "text/plain": [
       "dms_tuple(d=-16.0, m=-35.0, s=-41.635840458050666)"
      ]
     },
     "execution_count": 92,
     "metadata": {},
     "output_type": "execute_result"
    }
   ],
   "source": [
    "c4.dec.dms"
   ]
  },
  {
   "cell_type": "code",
   "execution_count": 20,
   "metadata": {},
   "outputs": [
    {
     "data": {
      "text/plain": [
       "hms_tuple(h=3.0, m=1.0, s=50.99473335926344)"
      ]
     },
     "execution_count": 20,
     "metadata": {},
     "output_type": "execute_result"
    }
   ],
   "source": [
    "c3.ra.hms"
   ]
  },
  {
   "cell_type": "code",
   "execution_count": 21,
   "metadata": {},
   "outputs": [
    {
     "data": {
      "text/plain": [
       "dms_tuple(d=-16.0, m=-35.0, s=-40.18421300788333)"
      ]
     },
     "execution_count": 21,
     "metadata": {},
     "output_type": "execute_result"
    }
   ],
   "source": [
    "c3.dec.dms"
   ]
  },
  {
   "cell_type": "code",
   "execution_count": 22,
   "metadata": {},
   "outputs": [],
   "source": [
    "c5 = c.apply_space_motion(new_obstime=Time('2003-06-18 23:52:38'))"
   ]
  },
  {
   "cell_type": "code",
   "execution_count": 23,
   "metadata": {},
   "outputs": [
    {
     "name": "stdout",
     "output_type": "stream",
     "text": [
      "hms_tuple(h=3.0, m=1.0, s=51.687593460322354) hms_tuple(h=-1.0, m=-6.0, s=-22.199407915083178)\n"
     ]
    }
   ],
   "source": [
    "print(c5.ra.hms, c5.dec.hms)"
   ]
  },
  {
   "cell_type": "code",
   "execution_count": 24,
   "metadata": {},
   "outputs": [],
   "source": [
    "hdul = fits.open(path +'oe83h3010_flt.fits')"
   ]
  },
  {
   "cell_type": "code",
   "execution_count": 26,
   "metadata": {},
   "outputs": [],
   "source": [
    "#hdul[1].header"
   ]
  },
  {
   "cell_type": "code",
   "execution_count": 84,
   "metadata": {},
   "outputs": [
    {
     "data": {
      "text/plain": [
       "(0.0, 30.0)"
      ]
     },
     "execution_count": 84,
     "metadata": {},
     "output_type": "execute_result"
    },
    {
     "data": {
      "image/png": "[encoded data removed]",
      "text/plain": [
       "<Figure size 1008x360 with 1 Axes>"
      ]
     },
     "metadata": {
      "needs_background": "light"
     },
     "output_type": "display_data"
    }
   ],
   "source": [
    "lc100 = fits.getdata('/media/david/5tb_storage1/muscles/ltt1445/swift/00012837002/uvot/event/ltt1445A_1800slc_002.fits', 1)\n",
    "#plt.errorbar(lc100['TIME'][2:], lc100['AB_MAG'][2:], lc100['AB_MAG_ERR'][2:], ls='none', marker='o')\n",
    "mask = ((lc100['AB_MAG']/lc100['AB_MAG_ERR']) > 10)\n",
    "lc100 = lc100[mask]\n",
    "plt.errorbar(lc100['TIME'], lc100['AB_MAG'], lc100['AB_MAG_ERR'], ls='none', marker='o')\n",
    "plt.ylim(0, 30)"
   ]
  },
  {
   "cell_type": "code",
   "execution_count": 85,
   "metadata": {},
   "outputs": [
    {
     "data": {
      "text/plain": [
       "2"
      ]
     },
     "execution_count": 85,
     "metadata": {},
     "output_type": "execute_result"
    }
   ],
   "source": [
    "len(lc100['AB_MAG'])"
   ]
  },
  {
   "cell_type": "code",
   "execution_count": 86,
   "metadata": {},
   "outputs": [
    {
     "name": "stdout",
     "output_type": "stream",
     "text": [
      "[21.718546 21.97518 ] [0.30189753 0.29758927]\n"
     ]
    }
   ],
   "source": [
    "print (lc100['AB_MAG'], lc100['AB_MAG_ERR'])"
   ]
  },
  {
   "cell_type": "code",
   "execution_count": 87,
   "metadata": {},
   "outputs": [
    {
     "name": "stdout",
     "output_type": "stream",
     "text": [
      "21.846863 0.4239698632079435\n"
     ]
    }
   ],
   "source": [
    "mf = np.median(lc100['AB_MAG'])\n",
    "me = mf*np.sum((lc100['AB_MAG_ERR']/lc100['AB_MAG'])**2)**0.5\n",
    "print(mf, me)"
   ]
  },
  {
   "cell_type": "code",
   "execution_count": 88,
   "metadata": {},
   "outputs": [
    {
     "name": "stdout",
     "output_type": "stream",
     "text": [
      "4.065717e-17 1.5874082755064126e-17\n"
     ]
    }
   ],
   "source": [
    "mf = np.median(lc100['AB_FLUX_AA'])\n",
    "me = mf*np.sum((lc100['AB_FLUX_AA_ERR']/lc100['AB_FLUX_AA'])**2)**0.5\n",
    "print(mf, me)"
   ]
  },
  {
   "cell_type": "code",
   "execution_count": 80,
   "metadata": {},
   "outputs": [
    {
     "name": "stdout",
     "output_type": "stream",
     "text": [
      "18.77056 10.059908172368894\n",
      "1.6681362e-16 1.5709698123913468e-15\n"
     ]
    }
   ],
   "source": [
    "mf = np.mean(lc100['MAG'])\n",
    "me = mf*np.sum((lc100['MAG_ERR']/lc100['MAG'])**2)**0.5\n",
    "print(mf, me)\n",
    "mf = np.mean(lc100['FLUX_AA'])\n",
    "me = mf*np.sum((lc100['FLUX_AA_ERR']/lc100['FLUX_AA'])**2)**0.5\n",
    "print(mf, me)"
   ]
  },
  {
   "cell_type": "code",
   "execution_count": 42,
   "metadata": {},
   "outputs": [
    {
     "data": {
      "text/plain": [
       "['MET',\n",
       " 'EXTNAME',\n",
       " 'TSTART',\n",
       " 'TSTOP',\n",
       " 'EXPOSURE',\n",
       " 'TELAPSE',\n",
       " 'TIME',\n",
       " 'SRC_AREA',\n",
       " 'BKG_AREA',\n",
       " 'STD_AREA',\n",
       " 'PLATE_SCALE',\n",
       " 'RAW_TOT_CNTS',\n",
       " 'RAW_TOT_CNTS_ERR',\n",
       " 'RAW_BKG_CNTS',\n",
       " 'RAW_BKG_CNTS_ERR',\n",
       " 'RAW_STD_CNTS',\n",
       " 'RAW_STD_CNTS_ERR',\n",
       " 'RAW_TOT_RATE',\n",
       " 'RAW_TOT_RATE_ERR',\n",
       " 'RAW_BKG_RATE',\n",
       " 'RAW_BKG_RATE_ERR',\n",
       " 'RAW_STD_RATE',\n",
       " 'RAW_STD_RATE_ERR',\n",
       " 'COI_STD_FACTOR',\n",
       " 'COI_STD_FACTOR_ERR',\n",
       " 'COI_BKG_FACTOR',\n",
       " 'COI_BKG_FACTOR_ERR',\n",
       " 'COI_TOT_RATE',\n",
       " 'COI_TOT_RATE_ERR',\n",
       " 'COI_BKG_RATE',\n",
       " 'COI_BKG_RATE_ERR',\n",
       " 'COI_SRC_RATE',\n",
       " 'COI_SRC_RATE_ERR',\n",
       " 'AP_FACTOR',\n",
       " 'AP_FACTOR_ERR',\n",
       " 'AP_COI_SRC_RATE',\n",
       " 'AP_COI_SRC_RATE_ERR',\n",
       " 'LSS_FACTOR',\n",
       " 'LSS_RATE',\n",
       " 'LSS_RATE_ERR',\n",
       " 'SENSCORR_FACTOR',\n",
       " 'SENSCORR_RATE',\n",
       " 'SENSCORR_RATE_ERR',\n",
       " 'CORR_RATE',\n",
       " 'CORR_RATE_ERR',\n",
       " 'AB_MAG',\n",
       " 'AB_MAG_ERR',\n",
       " 'AB_MAG_ERR_STAT',\n",
       " 'AB_MAG_ERR_SYS',\n",
       " 'AB_MAG_BKG',\n",
       " 'AB_MAG_BKG_ERR_STAT',\n",
       " 'AB_MAG_BKG_ERR_SYS',\n",
       " 'AB_MAG_BKG_ERR',\n",
       " 'AB_MAG_LIM',\n",
       " 'AB_MAG_LIM_SIG',\n",
       " 'AB_MAG_COI_LIM',\n",
       " 'AB_FLUX_AA',\n",
       " 'AB_FLUX_AA_ERR_STAT',\n",
       " 'AB_FLUX_AA_ERR_SYS',\n",
       " 'AB_FLUX_AA_ERR',\n",
       " 'AB_FLUX_AA_BKG',\n",
       " 'AB_FLUX_AA_BKG_ERR_STAT',\n",
       " 'AB_FLUX_AA_BKG_ERR_SYS',\n",
       " 'AB_FLUX_AA_BKG_ERR',\n",
       " 'AB_FLUX_AA_LIM',\n",
       " 'AB_FLUX_AA_COI_LIM',\n",
       " 'AB_FLUX_HZ',\n",
       " 'AB_FLUX_HZ_ERR_STAT',\n",
       " 'AB_FLUX_HZ_ERR_SYS',\n",
       " 'AB_FLUX_HZ_ERR',\n",
       " 'AB_FLUX_HZ_BKG',\n",
       " 'AB_FLUX_HZ_BKG_ERR_STAT',\n",
       " 'AB_FLUX_HZ_BKG_ERR_SYS',\n",
       " 'AB_FLUX_HZ_BKG_ERR',\n",
       " 'AB_FLUX_HZ_LIM',\n",
       " 'AB_FLUX_HZ_COI_LIM',\n",
       " 'MAG',\n",
       " 'MAG_ERR',\n",
       " 'MAG_ERR_STAT',\n",
       " 'MAG_ERR_SYS',\n",
       " 'MAG_BKG',\n",
       " 'MAG_BKG_ERR_STAT',\n",
       " 'MAG_BKG_ERR_SYS',\n",
       " 'MAG_BKG_ERR',\n",
       " 'MAG_LIM',\n",
       " 'MAG_LIM_SIG',\n",
       " 'MAG_COI_LIM',\n",
       " 'FLUX_AA',\n",
       " 'FLUX_AA_ERR_STAT',\n",
       " 'FLUX_AA_ERR_SYS',\n",
       " 'FLUX_AA_ERR',\n",
       " 'FLUX_AA_BKG',\n",
       " 'FLUX_AA_BKG_ERR_STAT',\n",
       " 'FLUX_AA_BKG_ERR_SYS',\n",
       " 'FLUX_AA_BKG_ERR',\n",
       " 'FLUX_AA_LIM',\n",
       " 'FLUX_AA_COI_LIM',\n",
       " 'FLUX_HZ',\n",
       " 'FLUX_HZ_ERR_STAT',\n",
       " 'FLUX_HZ_ERR_SYS',\n",
       " 'FLUX_HZ_ERR',\n",
       " 'FLUX_HZ_BKG',\n",
       " 'FLUX_HZ_BKG_ERR_STAT',\n",
       " 'FLUX_HZ_BKG_ERR_SYS',\n",
       " 'FLUX_HZ_BKG_ERR',\n",
       " 'FLUX_HZ_LIM',\n",
       " 'FLUX_HZ_COI_LIM',\n",
       " 'COI_RATE_LIMIT',\n",
       " 'CORR_RATE_LIMIT',\n",
       " 'FILTER',\n",
       " 'RA',\n",
       " 'DEC',\n",
       " 'DETX',\n",
       " 'DETY',\n",
       " 'NSIGMA',\n",
       " 'FRAMTIME',\n",
       " 'SATURATED',\n",
       " 'SYS_ERR',\n",
       " 'FRACEXP']"
      ]
     },
     "execution_count": 42,
     "metadata": {},
     "output_type": "execute_result"
    }
   ],
   "source": [
    "lc100.names"
   ]
  },
  {
   "cell_type": "code",
   "execution_count": 50,
   "metadata": {},
   "outputs": [
    {
     "data": {
      "text/plain": [
       "314.8782746334871"
      ]
     },
     "execution_count": 50,
     "metadata": {},
     "output_type": "execute_result"
    }
   ],
   "source": [
    "(614067120.916038-614048228.21956)/60"
   ]
  },
  {
   "cell_type": "code",
   "execution_count": null,
   "metadata": {},
   "outputs": [],
   "source": []
  }
 ],
 "metadata": {
  "kernelspec": {
   "display_name": "Python 3",
   "language": "python",
   "name": "python3"
  },
  "language_info": {
   "codemirror_mode": {
    "name": "ipython",
    "version": 3
   },
   "file_extension": ".py",
   "mimetype": "text/x-python",
   "name": "python",
   "nbconvert_exporter": "python",
   "pygments_lexer": "ipython3",
   "version": "3.6.13"
  }
 },
 "nbformat": 4,
 "nbformat_minor": 4
}
